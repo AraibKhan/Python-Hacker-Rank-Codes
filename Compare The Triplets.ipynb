{
 "cells": [
  {
   "cell_type": "code",
   "execution_count": null,
   "metadata": {},
   "outputs": [],
   "source": [
    "def compareTheTriplets(a,b):\n",
    "    pointAlice = 0\n",
    "    pointBob = 0\n",
    "    for i in range(len(a)):\n",
    "        if a[i] > b[i]:\n",
    "            pointAlice += 1\n",
    "        \n",
    "        elif b[i] > a[i]:\n",
    "            pointBob += 1\n",
    "    return pointAlice, pointBob\n",
    "\n",
    "a = list(map(int,input().strip().split()))\n",
    "b = list(map(int,input().strip().split()))\n",
    "\n",
    "print('%d %d' % compareTheTriplets(a,b))"
   ]
  }
 ],
 "metadata": {
  "kernelspec": {
   "display_name": "Python 3",
   "language": "python",
   "name": "python3"
  },
  "language_info": {
   "codemirror_mode": {
    "name": "ipython",
    "version": 3
   },
   "file_extension": ".py",
   "mimetype": "text/x-python",
   "name": "python",
   "nbconvert_exporter": "python",
   "pygments_lexer": "ipython3",
   "version": "3.7.4"
  }
 },
 "nbformat": 4,
 "nbformat_minor": 2
}
